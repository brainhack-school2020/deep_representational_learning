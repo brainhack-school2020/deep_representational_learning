{
 "nbformat": 4,
 "nbformat_minor": 2,
 "metadata": {
  "language_info": {
   "name": "python",
   "codemirror_mode": {
    "name": "ipython",
    "version": 3
   },
   "version": "3.6.9-final"
  },
  "orig_nbformat": 2,
  "file_extension": ".py",
  "mimetype": "text/x-python",
  "name": "python",
  "npconvert_exporter": "python",
  "pygments_lexer": "ipython3",
  "version": 3,
  "kernelspec": {
   "name": "python36964bitenvvenv501b18c36cd5431f80ebdb129255d8b5",
   "display_name": "Python 3.6.9 64-bit ('env': venv)"
  }
 },
 "cells": [
  {
   "cell_type": "code",
   "execution_count": 2,
   "metadata": {},
   "outputs": [
    {
     "ename": "ModuleNotFoundError",
     "evalue": "No module named 'plotly'",
     "output_type": "error",
     "traceback": [
      "\u001b[0;31m---------------------------------------------------------------------------\u001b[0m",
      "\u001b[0;31mModuleNotFoundError\u001b[0m                       Traceback (most recent call last)",
      "\u001b[0;32m<ipython-input-2-cc5447e6bfdc>\u001b[0m in \u001b[0;36m<module>\u001b[0;34m\u001b[0m\n\u001b[0;32m----> 1\u001b[0;31m \u001b[0;32mimport\u001b[0m \u001b[0mplotly\u001b[0m\u001b[0;34m.\u001b[0m\u001b[0mgraph_objects\u001b[0m \u001b[0;32mas\u001b[0m \u001b[0mgo\u001b[0m\u001b[0;34m\u001b[0m\u001b[0;34m\u001b[0m\u001b[0m\n\u001b[0m\u001b[1;32m      2\u001b[0m \u001b[0;32mimport\u001b[0m \u001b[0mmatplotlib\u001b[0m\u001b[0;34m.\u001b[0m\u001b[0mpyplot\u001b[0m \u001b[0;32mas\u001b[0m \u001b[0mplt\u001b[0m\u001b[0;34m\u001b[0m\u001b[0;34m\u001b[0m\u001b[0m\n\u001b[1;32m      3\u001b[0m \u001b[0;32mimport\u001b[0m \u001b[0mnumpy\u001b[0m \u001b[0;32mas\u001b[0m \u001b[0mnp\u001b[0m\u001b[0;34m\u001b[0m\u001b[0;34m\u001b[0m\u001b[0m\n\u001b[1;32m      4\u001b[0m \u001b[0;32mimport\u001b[0m \u001b[0mos\u001b[0m\u001b[0;34m\u001b[0m\u001b[0;34m\u001b[0m\u001b[0m\n\u001b[1;32m      5\u001b[0m \u001b[0;32mimport\u001b[0m \u001b[0mos\u001b[0m\u001b[0;34m.\u001b[0m\u001b[0mpath\u001b[0m \u001b[0;32mas\u001b[0m \u001b[0mop\u001b[0m\u001b[0;34m\u001b[0m\u001b[0;34m\u001b[0m\u001b[0m\n",
      "\u001b[0;31mModuleNotFoundError\u001b[0m: No module named 'plotly'"
     ]
    }
   ],
   "source": [
    "import plotly.graph_objects as go\n",
    "import matplotlib.pyplot as plt\n",
    "import numpy as np\n",
    "import os\n",
    "import os.path as op\n",
    "import scipy\n",
    "import scipy.spatial.distance\n",
    "from helpful_functions import average_subjects_rdms, normalise_dist, get_stimuli, reorder_rdm\n",
    "\n",
    "general_dir= '/home/adf/faghelss/CharestLab/brainhackschool/deep_representational_learning/'\n",
    "\n",
    "# load stimuli\n",
    "nimg = 49\n",
    "image_dir = op.join(general_dir,'stimuli/')\n",
    "rdm_file = op.join(general_dir,'derivatives/output_rdms.npy')\n",
    "image_data, image_order = get_stimuli(image_dir,nimg)\n",
    "\n",
    "z = np.load(rdm_file)\n",
    "\n",
    "fig = go.Figure(data=go.Heatmap(z))\n",
    "fig.show()"
   ]
  },
  {
   "cell_type": "code",
   "execution_count": null,
   "metadata": {},
   "outputs": [],
   "source": [
    "fig = go.Figure(data=go.Heatmap(\n",
    "                    z=[[1, 20, 30],\n",
    "                      [20, 1, 60],\n",
    "                      [30, 60, 1]]))\n",
    "fig.show()"
   ]
  },
  {
   "cell_type": "code",
   "execution_count": null,
   "metadata": {},
   "outputs": [],
   "source": [
    "from ipywidgets import interactive, HBox, VBox\n",
    "import plotly.offline as py\n",
    "import numpy as np\n",
    "\n",
    "py.init_notebook_mode()\n",
    "\n",
    "x = y = np.arange(-5, 5, 0.1)\n",
    "yt = x[:, np.newaxis]\n",
    "z = np.cos(x * yt) + np.sin(x * yt) * 2\n",
    "\n",
    "f = go.FigureWidget(\n",
    "    data=[\n",
    "        go.Surface(z=z, x=x, y=y,\n",
    "                   colorscale='Viridis')],\n",
    "    layout=go.Layout(scene=go.layout.Scene(\n",
    "        camera=go.layout.scene.Camera(\n",
    "            up=dict(x=0, y=0, z=1),\n",
    "            center=dict(x=0, y=0, z=0),\n",
    "            eye=dict(x=1.25, y=1.25, z=1.25))\n",
    "    ))\n",
    ")\n",
    "\n",
    "\n",
    "def update_z(frequency):\n",
    "    f.data[0].z = np.cos(x * yt * frequency / 10.0) + np.sin(x * yt * frequency / 10.0) * 2\n",
    "\n",
    "\n",
    "freq_slider = interactive(update_z, frequency=(1, 50, 0.1))\n",
    "vb = VBox((f, freq_slider))\n",
    "vb.layout.align_items = 'center'\n",
    "vb"
   ]
  }
 ]
}